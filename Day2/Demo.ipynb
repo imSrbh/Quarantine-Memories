{
 "cells": [
  {
   "cell_type": "markdown",
   "metadata": {},
   "source": [
    "# Demonstration Notebook"
   ]
  },
  {
   "cell_type": "code",
   "execution_count": 1,
   "metadata": {},
   "outputs": [
    {
     "data": {
      "text/plain": [
       "[{'added': 77, 'entirely': 18, 'some': 24, 'stuff': 14},\n",
       " {'keys': 27, 'more': 66, 'other': 68, 'things': 84}]"
      ]
     },
     "execution_count": 1,
     "metadata": {},
     "output_type": "execute_result"
    }
   ],
   "source": [
    "# how do I zip up json objects again?\n",
    "\n",
    "d_a = [{'some':24,'stuff':14},{'other':68, 'things':84}]\n",
    "d_b = [{'entirely':18,'added':77},{'more':66,'keys':27}]\n",
    "all_dicts = list(map(lambda a,b: dict(a, **b), d_a, d_b))\n",
    "all_dicts"
   ]
  },
  {
   "cell_type": "markdown",
   "metadata": {},
   "source": [
    "### Analysis Demonstration"
   ]
  },
  {
   "cell_type": "code",
   "execution_count": 2,
   "metadata": {},
   "outputs": [
    {
     "data": {
      "image/png": "[encoded data removed]",
      "text/plain": [
       "<matplotlib.figure.Figure at 0x7f1d4bce8510>"
      ]
     },
     "metadata": {
      "needs_background": "light"
     },
     "output_type": "display_data"
    }
   ],
   "source": [
    "import matplotlib.pyplot as plt\n",
    "%matplotlib inline\n",
    "objects = list(x for sublist in all_dicts for x in sublist.keys())\n",
    "y_pos = range(len(objects))\n",
    "vals = [x for sublist in all_dicts for x in sublist.values()]\n",
    "\n",
    "plt.bar(y_pos, vals, align='center', alpha=0.7)\n",
    "plt.xticks(y_pos, objects)\n",
    "plt.ylabel('Values')\n",
    "plt.title('Values of things and stuff')\n",
    "plt.show()"
   ]
  }
 ],
 "metadata": {
  "kernelspec": {
   "display_name": "Python 2",
   "language": "python",
   "name": "python2"
  },
  "language_info": {
   "codemirror_mode": {
    "name": "ipython",
    "version": 2
   },
   "file_extension": ".py",
   "mimetype": "text/x-python",
   "name": "python",
   "nbconvert_exporter": "python",
   "pygments_lexer": "ipython2",
   "version": "2.7.17"
  }
 },
 "nbformat": 4,
 "nbformat_minor": 2
}
